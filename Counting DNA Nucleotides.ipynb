{
 "cells": [
  {
   "cell_type": "code",
   "execution_count": 9,
   "id": "599dedf8",
   "metadata": {},
   "outputs": [
    {
     "name": "stdout",
     "output_type": "stream",
     "text": [
      "243\n",
      "211\n",
      "231\n",
      "244\n"
     ]
    }
   ],
   "source": [
    "file = open(r'C:\\Users\\mmorg\\Rosalind Problems\\1. Counting DNA Nucleotides\\rosalind_dna.txt', 'r')\n",
    "string1 = file.read()\n",
    "print(string1.count('A')) \n",
    "print(string1.count('C')) \n",
    "print(string1.count('G')) \n",
    "print(string1.count('T'))  "
   ]
  }
 ],
 "metadata": {
  "kernelspec": {
   "display_name": "Python 3 (ipykernel)",
   "language": "python",
   "name": "python3"
  },
  "language_info": {
   "codemirror_mode": {
    "name": "ipython",
    "version": 3
   },
   "file_extension": ".py",
   "mimetype": "text/x-python",
   "name": "python",
   "nbconvert_exporter": "python",
   "pygments_lexer": "ipython3",
   "version": "3.9.15"
  }
 },
 "nbformat": 4,
 "nbformat_minor": 5
}
