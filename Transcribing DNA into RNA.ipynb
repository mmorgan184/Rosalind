{
 "cells": [
  {
   "cell_type": "code",
   "execution_count": 1,
   "id": "b3e71a41",
   "metadata": {},
   "outputs": [],
   "source": [
    "file = open(r'C:\\Users\\mmorg\\Rosalind Problems\\2. Transcribing DNA into RNA\\rosalind_rna.txt', 'r')\n",
    "DNA = file.read()"
   ]
  },
  {
   "cell_type": "code",
   "execution_count": 4,
   "id": "e73aba4e",
   "metadata": {},
   "outputs": [],
   "source": [
    "RNA = DNA.replace('T', 'U')\n",
    "with open('output.txt', 'w') as file:\n",
    "    file.write(RNA)"
   ]
  }
 ],
 "metadata": {
  "kernelspec": {
   "display_name": "Python 3 (ipykernel)",
   "language": "python",
   "name": "python3"
  },
  "language_info": {
   "codemirror_mode": {
    "name": "ipython",
    "version": 3
   },
   "file_extension": ".py",
   "mimetype": "text/x-python",
   "name": "python",
   "nbconvert_exporter": "python",
   "pygments_lexer": "ipython3",
   "version": "3.9.15"
  }
 },
 "nbformat": 4,
 "nbformat_minor": 5
}
